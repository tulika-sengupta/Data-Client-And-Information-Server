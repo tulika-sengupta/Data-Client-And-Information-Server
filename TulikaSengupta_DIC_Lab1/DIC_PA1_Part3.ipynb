{
 "cells": [
  {
   "cell_type": "markdown",
   "metadata": {},
   "source": [
    "<html><b>Libraries to include all the required packages. \n",
    "twitteR for using the twitter functions such as \"searchTwitter\", \"twListToDF\".\n",
    "ggmap for using geocode() function.</b></html>"
   ]
  },
  {
   "cell_type": "code",
   "execution_count": null,
   "metadata": {
    "collapsed": false
   },
   "outputs": [],
   "source": [
    "library(\"twitteR\")\n",
    "library(\"ggmap\")"
   ]
  },
  {
   "cell_type": "markdown",
   "metadata": {},
   "source": [
    "<html><b>Twitter Credentials to programatically work with twitter.</b></html>"
   ]
  },
  {
   "cell_type": "code",
   "execution_count": null,
   "metadata": {
    "collapsed": false
   },
   "outputs": [],
   "source": [
    "consumer_key = \"u0dJDMOt3wZJsS5HSp9mU0Un1\"\n",
    "consumer_secret = \"FUTqk8V9ROhzXds1uXdIYC40S6058Ocu5fTzNh97HWPnuk0X54\"\n",
    "access_token = \"71994973-7usKrMfFnM6BAMp1jaLyWQ6Jo0pFbo6FbigNSVsN9\"\n",
    "access_secret = \"Xp3DdDJa2j1nvQxML7hppvti6j1RiEnrp802UwjBox6oU\"\n",
    "setup_twitter_oauth(consumer_key, consumer_secret, access_token, access_secret)"
   ]
  },
  {
   "cell_type": "markdown",
   "metadata": {},
   "source": [
    "<html><b>Finding the geocode of New York.</b></html>"
   ]
  },
  {
   "cell_type": "code",
   "execution_count": null,
   "metadata": {
    "collapsed": false
   },
   "outputs": [],
   "source": [
    "city <- geocode(\"New York, USA\")"
   ]
  },
  {
   "cell_type": "markdown",
   "metadata": {},
   "source": [
    "<html><b>Getting the closest Location to New York.</b></html>"
   ]
  },
  {
   "cell_type": "code",
   "execution_count": null,
   "metadata": {
    "collapsed": false
   },
   "outputs": [],
   "source": [
    "w <- closestTrendLocations(40.71278, -74.00594)\n",
    "w"
   ]
  },
  {
   "cell_type": "markdown",
   "metadata": {},
   "source": [
    "<html><b>Getting the trending topics of the given geolocation.</b></html>"
   ]
  },
  {
   "cell_type": "code",
   "execution_count": null,
   "metadata": {
    "collapsed": false
   },
   "outputs": [],
   "source": [
    "trends <- data.frame(getTrends(w$woeid))"
   ]
  },
  {
   "cell_type": "markdown",
   "metadata": {},
   "source": [
    "<html><b>Getting only topic names .</b></html>"
   ]
  },
  {
   "cell_type": "code",
   "execution_count": null,
   "metadata": {
    "collapsed": false
   },
   "outputs": [],
   "source": [
    "topics <- data.frame(trends$name)"
   ]
  },
  {
   "cell_type": "markdown",
   "metadata": {},
   "source": [
    "<html><b>Retrieving only the top 10 topic names.</b></html>"
   ]
  },
  {
   "cell_type": "code",
   "execution_count": null,
   "metadata": {
    "collapsed": false
   },
   "outputs": [],
   "source": [
    "data.frame(topics[1:10,])"
   ]
  },
  {
   "cell_type": "code",
   "execution_count": null,
   "metadata": {
    "collapsed": true
   },
   "outputs": [],
   "source": []
  }
 ],
 "metadata": {
  "kernelspec": {
   "display_name": "R",
   "language": "R",
   "name": "ir"
  },
  "language_info": {
   "codemirror_mode": "r",
   "file_extension": ".r",
   "mimetype": "text/x-r-source",
   "name": "R",
   "pygments_lexer": "r",
   "version": "3.3.2"
  }
 },
 "nbformat": 4,
 "nbformat_minor": 2
}
