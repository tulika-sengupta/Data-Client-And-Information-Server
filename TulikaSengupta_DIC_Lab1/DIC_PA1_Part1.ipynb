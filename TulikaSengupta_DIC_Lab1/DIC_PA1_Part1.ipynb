{
 "cells": [
  {
   "cell_type": "markdown",
   "metadata": {},
   "source": [
    "<html><b>Libraries to include all the required packages. \n",
    "twitteR for using the twitter functions such as \"searchTwitter\", \"twListToDF\".</b></html>"
   ]
  },
  {
   "cell_type": "code",
   "execution_count": 10,
   "metadata": {
    "collapsed": true
   },
   "outputs": [],
   "source": [
    "library(\"twitteR\")"
   ]
  },
  {
   "cell_type": "markdown",
   "metadata": {},
   "source": [
    "<html><b><html><b>Twitter Credentials to programatically work with twitter.</b></html>.</b></html>"
   ]
  },
  {
   "cell_type": "code",
   "execution_count": 2,
   "metadata": {
    "collapsed": false
   },
   "outputs": [
    {
     "name": "stdout",
     "output_type": "stream",
     "text": [
      "[1] \"Using direct authentication\"\n"
     ]
    }
   ],
   "source": [
    "consumer_key = \"u0dJDMOt3wZJsS5HSp9mU0Un1\"\n",
    "consumer_secret = \"FUTqk8V9ROhzXds1uXdIYC40S6058Ocu5fTzNh97HWPnuk0X54\"\n",
    "access_token = \"71994973-7usKrMfFnM6BAMp1jaLyWQ6Jo0pFbo6FbigNSVsN9\"\n",
    "access_secret = \"Xp3DdDJa2j1nvQxML7hppvti6j1RiEnrp802UwjBox6oU\"\n",
    "setup_twitter_oauth(consumer_key, consumer_secret, access_token, access_secret)"
   ]
  },
  {
   "cell_type": "markdown",
   "metadata": {},
   "source": [
    "<html><b>Collect Tweets using searchTwitter</b></html>"
   ]
  },
  {
   "cell_type": "code",
   "execution_count": 11,
   "metadata": {
    "collapsed": true
   },
   "outputs": [],
   "source": [
    "tweets <- searchTwitter('#H1B Visa', n=20)"
   ]
  },
  {
   "cell_type": "markdown",
   "metadata": {},
   "source": [
    "<html><b>Print the first 6 tweets using head()</b></html>"
   ]
  },
  {
   "cell_type": "code",
   "execution_count": 12,
   "metadata": {
    "collapsed": false
   },
   "outputs": [
    {
     "data": {
      "text/plain": [
       "[[1]]\n",
       "[1] \"America_Fight: RT @rc05689: @POTUS Please suspend the #H1B visa program before the April 2017 deadline. #Jobs in #America for #Americans! #PatrioticEconom",
       "\"\n",
       "\n",
       "[[2]]\n",
       "[1] \"AZConservative1: RT @Tandan: Exactly #H1B is used as a route to #citizenship and kills #American jobs.  No citizenship or green cards from H1b https://t.co/",
       "\"\n",
       "\n",
       "[[3]]\n",
       "[1] \"Tandan: Exactly #H1B is used as a route to #citizenship and kills #American jobs.  No citizenship or green cards from H1b https://t.co/uNJfXYb1cR\"\n",
       "\n",
       "[[4]]\n",
       "[1] \"America_Fight: RT @NowAmerica1st: Either tell these kids they aren't smart enough for #STEM OR end the #H1B visa program.\\n\\n#NoH1B\\n#Trump\\n#MAGA\\n#Sessions\\n#",
       "\"\n",
       "\n",
       "[[5]]\n",
       "[1] \"Collaborizm: Will U.S. Tech Jobs Turn All-Indian? The #H1B Visa Dilemma https://t.co/y5sbYAvW4b via @wordpressdotcom\"\n",
       "\n",
       "[[6]]\n",
       "[1] \"_KristiL: Minimum wage for #H1b visa holder should be $130K for \\\"Best and Brightest\\\". Hire American. Throw these brownies Indian dogs and bitches out.\"\n"
      ]
     },
     "metadata": {},
     "output_type": "display_data"
    }
   ],
   "source": [
    "head(tweets)"
   ]
  },
  {
   "cell_type": "markdown",
   "metadata": {},
   "source": [
    " <html><b>Removes offcial API-based retweets from Twitter</b></html>"
   ]
  },
  {
   "cell_type": "code",
   "execution_count": 13,
   "metadata": {
    "collapsed": false
   },
   "outputs": [
    {
     "data": {
      "text/plain": [
       "[[1]]\n",
       "[1] \"Tandan: Exactly #H1B is used as a route to #citizenship and kills #American jobs.  No citizenship or green cards from H1b https://t.co/uNJfXYb1cR\"\n",
       "\n",
       "[[2]]\n",
       "[1] \"Collaborizm: Will U.S. Tech Jobs Turn All-Indian? The #H1B Visa Dilemma https://t.co/y5sbYAvW4b via @wordpressdotcom\"\n",
       "\n",
       "[[3]]\n",
       "[1] \"_KristiL: Minimum wage for #H1b visa holder should be $130K for \\\"Best and Brightest\\\". Hire American. Throw these brownies Indian dogs and bitches out.\"\n",
       "\n",
       "[[4]]\n",
       "[1] \"thurberdog: How Do Tech Pros Feel About #H1B Reform? - https://t.co/lcgo04815U via @dicedotcom\"\n",
       "\n",
       "[[5]]\n",
       "[1] \"LHTServices: How Do Tech Pros Feel About H-1B Reform? - Dice Insights https://t.co/q0DIHKebF0 #ITjobs #Techjobs #H1B\"\n",
       "\n",
       "[[6]]\n",
       "[1] \"jenrobertsontoo: Good. No more train ur visa replacement b4 u get laid off. <ed><U+00A0><U+00BD><ed><U+00B1><U+008D> #IBEW #H1B #H4 #workers #immigration https://t.co/letmsrNS8n\"\n"
      ]
     },
     "metadata": {},
     "output_type": "display_data"
    }
   ],
   "source": [
    " head(strip_retweets(tweets, strip_manual=TRUE, strip_mt=TRUE))"
   ]
  },
  {
   "cell_type": "markdown",
   "metadata": {},
   "source": [
    "<html><b>getUser function returns a user object, which can then be used to extract further information</b></html>"
   ]
  },
  {
   "cell_type": "code",
   "execution_count": 14,
   "metadata": {
    "collapsed": true
   },
   "outputs": [],
   "source": [
    "user <- getUser('twitanu')"
   ]
  },
  {
   "cell_type": "markdown",
   "metadata": {},
   "source": [
    "<html><b>Get the description of the user about himself. </b></html>"
   ]
  },
  {
   "cell_type": "code",
   "execution_count": 15,
   "metadata": {
    "collapsed": false
   },
   "outputs": [
    {
     "data": {
      "text/html": [
       "'i am a student'"
      ],
      "text/latex": [
       "'i am a student'"
      ],
      "text/markdown": [
       "'i am a student'"
      ],
      "text/plain": [
       "[1] \"i am a student\""
      ]
     },
     "metadata": {},
     "output_type": "display_data"
    }
   ],
   "source": [
    "user$getDescription()"
   ]
  },
  {
   "cell_type": "markdown",
   "metadata": {},
   "source": [
    "<html><b>get the count of the number of followers of the use</b></html>"
   ]
  },
  {
   "cell_type": "code",
   "execution_count": 17,
   "metadata": {
    "collapsed": false
   },
   "outputs": [
    {
     "data": {
      "text/html": [
       "7"
      ],
      "text/latex": [
       "7"
      ],
      "text/markdown": [
       "7"
      ],
      "text/plain": [
       "[1] 7"
      ]
     },
     "metadata": {},
     "output_type": "display_data"
    }
   ],
   "source": [
    " user$getFollowersCount()"
   ]
  },
  {
   "cell_type": "markdown",
   "metadata": {},
   "source": [
    "<html><b>get the count of the friends of the users</b></html>"
   ]
  },
  {
   "cell_type": "code",
   "execution_count": 18,
   "metadata": {
    "collapsed": false
   },
   "outputs": [
    {
     "data": {
      "text/plain": [
       "$`178009268`\n",
       "[1] \"seematoppo\"\n",
       "\n",
       "$`91548243`\n",
       "[1] \"tanzeelosama\"\n",
       "\n",
       "$`45993870`\n",
       "[1] \"YoVille\"\n",
       "\n",
       "$`88232123`\n",
       "[1] \"sumit545\"\n",
       "\n",
       "$`16409683`\n",
       "[1] \"britneyspears\"\n"
      ]
     },
     "metadata": {},
     "output_type": "display_data"
    }
   ],
   "source": [
    "user$getFriends(n=5)"
   ]
  },
  {
   "cell_type": "markdown",
   "metadata": {},
   "source": [
    "<html><b>Convert the tweets to a data frame</b></html>"
   ]
  },
  {
   "cell_type": "code",
   "execution_count": 19,
   "metadata": {
    "collapsed": false
   },
   "outputs": [
    {
     "data": {
      "text/html": [
       "<table>\n",
       "<thead><tr><th scope=col>text</th><th scope=col>favorited</th><th scope=col>favoriteCount</th><th scope=col>replyToSN</th><th scope=col>created</th><th scope=col>truncated</th><th scope=col>replyToSID</th><th scope=col>id</th><th scope=col>replyToUID</th><th scope=col>statusSource</th><th scope=col>screenName</th><th scope=col>retweetCount</th><th scope=col>isRetweet</th><th scope=col>retweeted</th><th scope=col>longitude</th><th scope=col>latitude</th></tr></thead>\n",
       "<tbody>\n",
       "\t<tr><td><span style=white-space:pre-wrap>RT @rc05689: @POTUS Please suspend the #H1B visa program before the April 2017 deadline. #Jobs in #America for #Americans! #PatrioticEconom…      </span></td><td>FALSE                                                                                                                                                                                     </td><td>0                                                                                                                                                                                         </td><td>NA                                                                                                                                                                                        </td><td>2017-02-18 20:51:58                                                                                                                                                                       </td><td>FALSE                                                                                                                                                                                     </td><td>NA                                                                                                                                                                                        </td><td>833056486607745025                                                                                                                                                                        </td><td>NA                                                                                                                                                                                        </td><td><span style=white-space:pre-wrap>&lt;a href=\"http://twitter.com\" rel=\"nofollow\"&gt;Twitter Web Client&lt;/a&gt;                 </span>                                                   </td><td><span style=white-space:pre-wrap>America_Fight  </span>                                                                                                                                   </td><td>7                                                                                                                                                                                         </td><td> TRUE                                                                                                                                                                                     </td><td>FALSE                                                                                                                                                                                     </td><td>NA                                                                                                                                                                                        </td><td>NA                                                                                                                                                                                        </td></tr>\n",
       "\t<tr><td><span style=white-space:pre-wrap>RT @Tandan: Exactly #H1B is used as a route to #citizenship and kills #American jobs.  No citizenship or green cards from H1b https://t.co/…      </span></td><td>FALSE                                                                                                                                                                                     </td><td>0                                                                                                                                                                                         </td><td>NA                                                                                                                                                                                        </td><td>2017-02-18 20:47:35                                                                                                                                                                       </td><td>FALSE                                                                                                                                                                                     </td><td>NA                                                                                                                                                                                        </td><td>833055382532608000                                                                                                                                                                        </td><td>NA                                                                                                                                                                                        </td><td>&lt;a href=\"https://about.twitter.com/products/tweetdeck\" rel=\"nofollow\"&gt;TweetDeck&lt;/a&gt;                                                                                           </td><td>AZConservative1                                                                                                                                                                           </td><td>1                                                                                                                                                                                         </td><td> TRUE                                                                                                                                                                                     </td><td>FALSE                                                                                                                                                                                     </td><td>NA                                                                                                                                                                                        </td><td>NA                                                                                                                                                                                        </td></tr>\n",
       "\t<tr><td><span style=white-space:pre-wrap>Exactly #H1B is used as a route to #citizenship and kills #American jobs.  No citizenship or green cards from H1b https://t.co/uNJfXYb1cR         </span></td><td>FALSE                                                                                                                                                                                     </td><td>1                                                                                                                                                                                         </td><td>NA                                                                                                                                                                                        </td><td>2017-02-18 20:45:10                                                                                                                                                                       </td><td>FALSE                                                                                                                                                                                     </td><td>NA                                                                                                                                                                                        </td><td>833054774178246660                                                                                                                                                                        </td><td>NA                                                                                                                                                                                        </td><td><span style=white-space:pre-wrap>&lt;a href=\"http://twitter.com\" rel=\"nofollow\"&gt;Twitter Web Client&lt;/a&gt;                 </span>                                                   </td><td><span style=white-space:pre-wrap>Tandan         </span>                                                                                                                                   </td><td>1                                                                                                                                                                                         </td><td>FALSE                                                                                                                                                                                     </td><td>FALSE                                                                                                                                                                                     </td><td>NA                                                                                                                                                                                        </td><td>NA                                                                                                                                                                                        </td></tr>\n",
       "\t<tr><td>RT @NowAmerica1st: Either tell these kids they aren't smart enough for #STEM OR end the #H1B visa program.\n",
       "\n",
       "#NoH1B\n",
       "#Trump\n",
       "#MAGA\n",
       "#Sessions\n",
       "#…</td><td>FALSE                                                                                                                                             </td><td>0                                                                                                                                                 </td><td>NA                                                                                                                                                </td><td>2017-02-18 20:22:15                                                                                                                               </td><td>FALSE                                                                                                                                             </td><td>NA                                                                                                                                                </td><td>833049010005037056                                                                                                                                </td><td>NA                                                                                                                                                </td><td><span style=white-space:pre-wrap>&lt;a href=\"http://twitter.com\" rel=\"nofollow\"&gt;Twitter Web Client&lt;/a&gt;                 </span>           </td><td><span style=white-space:pre-wrap>America_Fight  </span>                                                                                           </td><td>9                                                                                                                                                 </td><td> TRUE                                                                                                                                             </td><td>FALSE                                                                                                                                             </td><td>NA                                                                                                                                                </td><td>NA                                                                                                                                                </td></tr>\n",
       "\t<tr><td><span style=white-space:pre-wrap>Will U.S. Tech Jobs Turn All-Indian? The #H1B Visa Dilemma https://t.co/y5sbYAvW4b via @wordpressdotcom                                           </span></td><td>FALSE                                                                                                                                                                                     </td><td>0                                                                                                                                                                                         </td><td>NA                                                                                                                                                                                        </td><td>2017-02-18 20:10:15                                                                                                                                                                       </td><td>FALSE                                                                                                                                                                                     </td><td>NA                                                                                                                                                                                        </td><td>833045987539161091                                                                                                                                                                        </td><td>NA                                                                                                                                                                                        </td><td><span style=white-space:pre-wrap>&lt;a href=\"http://twitter.com\" rel=\"nofollow\"&gt;Twitter Web Client&lt;/a&gt;                 </span>                                                   </td><td><span style=white-space:pre-wrap>Collaborizm    </span>                                                                                                                                   </td><td>0                                                                                                                                                                                         </td><td>FALSE                                                                                                                                                                                     </td><td>FALSE                                                                                                                                                                                     </td><td>NA                                                                                                                                                                                        </td><td>NA                                                                                                                                                                                        </td></tr>\n",
       "\t<tr><td><span style=white-space:pre-wrap>Minimum wage for #H1b visa holder should be $130K for \"Best and Brightest\". Hire American. Throw these brownies Indian dogs and bitches out.      </span></td><td>FALSE                                                                                                                                                                                     </td><td>1                                                                                                                                                                                         </td><td>NA                                                                                                                                                                                        </td><td>2017-02-18 20:01:34                                                                                                                                                                       </td><td>FALSE                                                                                                                                                                                     </td><td>NA                                                                                                                                                                                        </td><td>833043803858669568                                                                                                                                                                        </td><td>NA                                                                                                                                                                                        </td><td><span style=white-space:pre-wrap>&lt;a href=\"http://twitter.com\" rel=\"nofollow\"&gt;Twitter Web Client&lt;/a&gt;                 </span>                                                   </td><td><span style=white-space:pre-wrap>_KristiL       </span>                                                                                                                                   </td><td>0                                                                                                                                                                                         </td><td>FALSE                                                                                                                                                                                     </td><td>FALSE                                                                                                                                                                                     </td><td>NA                                                                                                                                                                                        </td><td>NA                                                                                                                                                                                        </td></tr>\n",
       "</tbody>\n",
       "</table>\n"
      ],
      "text/latex": [
       "\\begin{tabular}{r|llllllllllllllll}\n",
       " text & favorited & favoriteCount & replyToSN & created & truncated & replyToSID & id & replyToUID & statusSource & screenName & retweetCount & isRetweet & retweeted & longitude & latitude\\\\\n",
       "\\hline\n",
       "\t RT @rc05689: @POTUS Please suspend the \\#H1B visa program before the April 2017 deadline. \\#Jobs in \\#America for \\#Americans! \\#PatrioticEconom…       & FALSE                                                                                                                                                        & 0                                                                                                                                                            & NA                                                                                                                                                           & 2017-02-18 20:51:58                                                                                                                                          & FALSE                                                                                                                                                        & NA                                                                                                                                                           & 833056486607745025                                                                                                                                           & NA                                                                                                                                                           & <a href=\"http://twitter.com\" rel=\"nofollow\">Twitter Web Client</a>                                                                                           & America\\_Fight                                                                                                                                              & 7                                                                                                                                                            &  TRUE                                                                                                                                                        & FALSE                                                                                                                                                        & NA                                                                                                                                                           & NA                                                                                                                                                          \\\\\n",
       "\t RT @Tandan: Exactly \\#H1B is used as a route to \\#citizenship and kills \\#American jobs.  No citizenship or green cards from H1b https://t.co/…       & FALSE                                                                                                                                                    & 0                                                                                                                                                        & NA                                                                                                                                                       & 2017-02-18 20:47:35                                                                                                                                      & FALSE                                                                                                                                                    & NA                                                                                                                                                       & 833055382532608000                                                                                                                                       & NA                                                                                                                                                       & <a href=\"https://about.twitter.com/products/tweetdeck\" rel=\"nofollow\">TweetDeck</a>                                                                      & AZConservative1                                                                                                                                          & 1                                                                                                                                                        &  TRUE                                                                                                                                                    & FALSE                                                                                                                                                    & NA                                                                                                                                                       & NA                                                                                                                                                      \\\\\n",
       "\t Exactly \\#H1B is used as a route to \\#citizenship and kills \\#American jobs.  No citizenship or green cards from H1b https://t.co/uNJfXYb1cR          & FALSE                                                                                                                                                    & 1                                                                                                                                                        & NA                                                                                                                                                       & 2017-02-18 20:45:10                                                                                                                                      & FALSE                                                                                                                                                    & NA                                                                                                                                                       & 833054774178246660                                                                                                                                       & NA                                                                                                                                                       & <a href=\"http://twitter.com\" rel=\"nofollow\">Twitter Web Client</a>                                                                                       & Tandan                                                                                                                                                   & 1                                                                                                                                                        & FALSE                                                                                                                                                    & FALSE                                                                                                                                                    & NA                                                                                                                                                       & NA                                                                                                                                                      \\\\\n",
       "\t RT @NowAmerica1st: Either tell these kids they aren't smart enough for \\#STEM OR end the \\#H1B visa program.\n",
       "\n",
       "\\#NoH1B\n",
       "\\#Trump\n",
       "\\#MAGA\n",
       "\\#Sessions\n",
       "\\#… & FALSE                                                                                                                                                            & 0                                                                                                                                                                & NA                                                                                                                                                               & 2017-02-18 20:22:15                                                                                                                                              & FALSE                                                                                                                                                            & NA                                                                                                                                                               & 833049010005037056                                                                                                                                               & NA                                                                                                                                                               & <a href=\"http://twitter.com\" rel=\"nofollow\">Twitter Web Client</a>                                                                                               & America\\_Fight                                                                                                                                                  & 9                                                                                                                                                                &  TRUE                                                                                                                                                            & FALSE                                                                                                                                                            & NA                                                                                                                                                               & NA                                                                                                                                                              \\\\\n",
       "\t Will U.S. Tech Jobs Turn All-Indian? The \\#H1B Visa Dilemma https://t.co/y5sbYAvW4b via @wordpressdotcom                                            & FALSE                                                                                                                                                & 0                                                                                                                                                    & NA                                                                                                                                                   & 2017-02-18 20:10:15                                                                                                                                  & FALSE                                                                                                                                                & NA                                                                                                                                                   & 833045987539161091                                                                                                                                   & NA                                                                                                                                                   & <a href=\"http://twitter.com\" rel=\"nofollow\">Twitter Web Client</a>                                                                                   & Collaborizm                                                                                                                                          & 0                                                                                                                                                    & FALSE                                                                                                                                                & FALSE                                                                                                                                                & NA                                                                                                                                                   & NA                                                                                                                                                  \\\\\n",
       "\t Minimum wage for \\#H1b visa holder should be \\$130K for \"Best and Brightest\". Hire American. Throw these brownies Indian dogs and bitches out.       & FALSE                                                                                                                                                  & 1                                                                                                                                                      & NA                                                                                                                                                     & 2017-02-18 20:01:34                                                                                                                                    & FALSE                                                                                                                                                  & NA                                                                                                                                                     & 833043803858669568                                                                                                                                     & NA                                                                                                                                                     & <a href=\"http://twitter.com\" rel=\"nofollow\">Twitter Web Client</a>                                                                                     & \\_KristiL                                                                                                                                             & 0                                                                                                                                                      & FALSE                                                                                                                                                  & FALSE                                                                                                                                                  & NA                                                                                                                                                     & NA                                                                                                                                                    \\\\\n",
       "\\end{tabular}\n"
      ],
      "text/markdown": [
       "\n",
       "text | favorited | favoriteCount | replyToSN | created | truncated | replyToSID | id | replyToUID | statusSource | screenName | retweetCount | isRetweet | retweeted | longitude | latitude | \n",
       "|---|---|---|---|---|---|\n",
       "| RT @rc05689: @POTUS Please suspend the #H1B visa program before the April 2017 deadline. #Jobs in #America for #Americans! #PatrioticEconom…       | FALSE                                                                                                                                              | 0                                                                                                                                                  | NA                                                                                                                                                 | 2017-02-18 20:51:58                                                                                                                                | FALSE                                                                                                                                              | NA                                                                                                                                                 | 833056486607745025                                                                                                                                 | NA                                                                                                                                                 | <a href=\"http://twitter.com\" rel=\"nofollow\">Twitter Web Client</a>                                                                                 | America_Fight                                                                                                                                      | 7                                                                                                                                                  |  TRUE                                                                                                                                              | FALSE                                                                                                                                              | NA                                                                                                                                                 | NA                                                                                                                                                 | \n",
       "| RT @Tandan: Exactly #H1B is used as a route to #citizenship and kills #American jobs.  No citizenship or green cards from H1b https://t.co/…       | FALSE                                                                                                                                              | 0                                                                                                                                                  | NA                                                                                                                                                 | 2017-02-18 20:47:35                                                                                                                                | FALSE                                                                                                                                              | NA                                                                                                                                                 | 833055382532608000                                                                                                                                 | NA                                                                                                                                                 | <a href=\"https://about.twitter.com/products/tweetdeck\" rel=\"nofollow\">TweetDeck</a>                                                                | AZConservative1                                                                                                                                    | 1                                                                                                                                                  |  TRUE                                                                                                                                              | FALSE                                                                                                                                              | NA                                                                                                                                                 | NA                                                                                                                                                 | \n",
       "| Exactly #H1B is used as a route to #citizenship and kills #American jobs.  No citizenship or green cards from H1b https://t.co/uNJfXYb1cR          | FALSE                                                                                                                                              | 1                                                                                                                                                  | NA                                                                                                                                                 | 2017-02-18 20:45:10                                                                                                                                | FALSE                                                                                                                                              | NA                                                                                                                                                 | 833054774178246660                                                                                                                                 | NA                                                                                                                                                 | <a href=\"http://twitter.com\" rel=\"nofollow\">Twitter Web Client</a>                                                                                 | Tandan                                                                                                                                             | 1                                                                                                                                                  | FALSE                                                                                                                                              | FALSE                                                                                                                                              | NA                                                                                                                                                 | NA                                                                                                                                                 | \n",
       "| RT @NowAmerica1st: Either tell these kids they aren't smart enough for #STEM OR end the #H1B visa program.\n",
       "\n",
       "#NoH1B\n",
       "#Trump\n",
       "#MAGA\n",
       "#Sessions\n",
       "#… | FALSE                                                                                                                                              | 0                                                                                                                                                  | NA                                                                                                                                                 | 2017-02-18 20:22:15                                                                                                                                | FALSE                                                                                                                                              | NA                                                                                                                                                 | 833049010005037056                                                                                                                                 | NA                                                                                                                                                 | <a href=\"http://twitter.com\" rel=\"nofollow\">Twitter Web Client</a>                                                                                 | America_Fight                                                                                                                                      | 9                                                                                                                                                  |  TRUE                                                                                                                                              | FALSE                                                                                                                                              | NA                                                                                                                                                 | NA                                                                                                                                                 | \n",
       "| Will U.S. Tech Jobs Turn All-Indian? The #H1B Visa Dilemma https://t.co/y5sbYAvW4b via @wordpressdotcom                                            | FALSE                                                                                                                                              | 0                                                                                                                                                  | NA                                                                                                                                                 | 2017-02-18 20:10:15                                                                                                                                | FALSE                                                                                                                                              | NA                                                                                                                                                 | 833045987539161091                                                                                                                                 | NA                                                                                                                                                 | <a href=\"http://twitter.com\" rel=\"nofollow\">Twitter Web Client</a>                                                                                 | Collaborizm                                                                                                                                        | 0                                                                                                                                                  | FALSE                                                                                                                                              | FALSE                                                                                                                                              | NA                                                                                                                                                 | NA                                                                                                                                                 | \n",
       "| Minimum wage for #H1b visa holder should be $130K for \"Best and Brightest\". Hire American. Throw these brownies Indian dogs and bitches out.       | FALSE                                                                                                                                              | 1                                                                                                                                                  | NA                                                                                                                                                 | 2017-02-18 20:01:34                                                                                                                                | FALSE                                                                                                                                              | NA                                                                                                                                                 | 833043803858669568                                                                                                                                 | NA                                                                                                                                                 | <a href=\"http://twitter.com\" rel=\"nofollow\">Twitter Web Client</a>                                                                                 | _KristiL                                                                                                                                           | 0                                                                                                                                                  | FALSE                                                                                                                                              | FALSE                                                                                                                                              | NA                                                                                                                                                 | NA                                                                                                                                                 | \n",
       "\n",
       "\n"
      ],
      "text/plain": [
       "  text                                                                                                                                              \n",
       "1 RT @rc05689: @POTUS Please suspend the #H1B visa program before the April 2017 deadline. #Jobs in #America for #Americans! #PatrioticEconom",
       "      \n",
       "2 RT @Tandan: Exactly #H1B is used as a route to #citizenship and kills #American jobs.  No citizenship or green cards from H1b https://t.co/",
       "      \n",
       "3 Exactly #H1B is used as a route to #citizenship and kills #American jobs.  No citizenship or green cards from H1b https://t.co/uNJfXYb1cR         \n",
       "4 RT @NowAmerica1st: Either tell these kids they aren't smart enough for #STEM OR end the #H1B visa program.\\n\\n#NoH1B\\n#Trump\\n#MAGA\\n#Sessions\\n#",
       "\n",
       "5 Will U.S. Tech Jobs Turn All-Indian? The #H1B Visa Dilemma https://t.co/y5sbYAvW4b via @wordpressdotcom                                           \n",
       "6 Minimum wage for #H1b visa holder should be $130K for \"Best and Brightest\". Hire American. Throw these brownies Indian dogs and bitches out.      \n",
       "  favorited favoriteCount replyToSN created             truncated replyToSID\n",
       "1 FALSE     0             NA        2017-02-18 20:51:58 FALSE     NA        \n",
       "2 FALSE     0             NA        2017-02-18 20:47:35 FALSE     NA        \n",
       "3 FALSE     1             NA        2017-02-18 20:45:10 FALSE     NA        \n",
       "4 FALSE     0             NA        2017-02-18 20:22:15 FALSE     NA        \n",
       "5 FALSE     0             NA        2017-02-18 20:10:15 FALSE     NA        \n",
       "6 FALSE     1             NA        2017-02-18 20:01:34 FALSE     NA        \n",
       "  id                 replyToUID\n",
       "1 833056486607745025 NA        \n",
       "2 833055382532608000 NA        \n",
       "3 833054774178246660 NA        \n",
       "4 833049010005037056 NA        \n",
       "5 833045987539161091 NA        \n",
       "6 833043803858669568 NA        \n",
       "  statusSource                                                                       \n",
       "1 <a href=\"http://twitter.com\" rel=\"nofollow\">Twitter Web Client</a>                 \n",
       "2 <a href=\"https://about.twitter.com/products/tweetdeck\" rel=\"nofollow\">TweetDeck</a>\n",
       "3 <a href=\"http://twitter.com\" rel=\"nofollow\">Twitter Web Client</a>                 \n",
       "4 <a href=\"http://twitter.com\" rel=\"nofollow\">Twitter Web Client</a>                 \n",
       "5 <a href=\"http://twitter.com\" rel=\"nofollow\">Twitter Web Client</a>                 \n",
       "6 <a href=\"http://twitter.com\" rel=\"nofollow\">Twitter Web Client</a>                 \n",
       "  screenName      retweetCount isRetweet retweeted longitude latitude\n",
       "1 America_Fight   7             TRUE     FALSE     NA        NA      \n",
       "2 AZConservative1 1             TRUE     FALSE     NA        NA      \n",
       "3 Tandan          1            FALSE     FALSE     NA        NA      \n",
       "4 America_Fight   9             TRUE     FALSE     NA        NA      \n",
       "5 Collaborizm     0            FALSE     FALSE     NA        NA      \n",
       "6 _KristiL        0            FALSE     FALSE     NA        NA      "
      ]
     },
     "metadata": {},
     "output_type": "display_data"
    }
   ],
   "source": [
    "df <- twListToDF(tweets)\n",
    "head(df)"
   ]
  },
  {
   "cell_type": "markdown",
   "metadata": {},
   "source": [
    "<html><b>Storing data in database.</b></html>"
   ]
  },
  {
   "cell_type": "code",
   "execution_count": 20,
   "metadata": {
    "collapsed": false
   },
   "outputs": [
    {
     "name": "stderr",
     "output_type": "stream",
     "text": [
      "Loading required namespace: RSQLite\n"
     ]
    },
    {
     "data": {
      "text/html": [
       "TRUE"
      ],
      "text/latex": [
       "TRUE"
      ],
      "text/markdown": [
       "TRUE"
      ],
      "text/plain": [
       "[1] TRUE"
      ]
     },
     "metadata": {},
     "output_type": "display_data"
    }
   ],
   "source": [
    "sql_lite_file = tempfile()\n",
    "register_sqlite_backend(sql_lite_file)\n",
    "store_tweets_db(tweets)"
   ]
  },
  {
   "cell_type": "markdown",
   "metadata": {},
   "source": [
    "<html><b>Retrieving data from database.</b></html>"
   ]
  },
  {
   "cell_type": "code",
   "execution_count": 21,
   "metadata": {
    "collapsed": false
   },
   "outputs": [
    {
     "data": {
      "text/plain": [
       "[[1]]\n",
       "[1] \"America_Fight: RT @rc05689: @POTUS Please suspend the #H1B visa program before the April 2017 deadline. #Jobs in #America for #Americans! #PatrioticEconom",
       "\"\n",
       "\n",
       "[[2]]\n",
       "[1] \"AZConservative1: RT @Tandan: Exactly #H1B is used as a route to #citizenship and kills #American jobs.  No citizenship or green cards from H1b https://t.co/",
       "\"\n",
       "\n",
       "[[3]]\n",
       "[1] \"Tandan: Exactly #H1B is used as a route to #citizenship and kills #American jobs.  No citizenship or green cards from H1b https://t.co/uNJfXYb1cR\"\n",
       "\n",
       "[[4]]\n",
       "[1] \"America_Fight: RT @NowAmerica1st: Either tell these kids they aren't smart enough for #STEM OR end the #H1B visa program.\\n\\n#NoH1B\\n#Trump\\n#MAGA\\n#Sessions\\n#",
       "\"\n",
       "\n",
       "[[5]]\n",
       "[1] \"Collaborizm: Will U.S. Tech Jobs Turn All-Indian? The #H1B Visa Dilemma https://t.co/y5sbYAvW4b via @wordpressdotcom\"\n",
       "\n",
       "[[6]]\n",
       "[1] \"_KristiL: Minimum wage for #H1b visa holder should be $130K for \\\"Best and Brightest\\\". Hire American. Throw these brownies Indian dogs and bitches out.\"\n"
      ]
     },
     "metadata": {},
     "output_type": "display_data"
    }
   ],
   "source": [
    "from_db = load_tweets_db()\n",
    "head(from_db)"
   ]
  },
  {
   "cell_type": "markdown",
   "metadata": {},
   "source": [
    "<html><b>provides the most recent tweets of a specified user.</b></html>"
   ]
  },
  {
   "cell_type": "code",
   "execution_count": 22,
   "metadata": {
    "collapsed": false
   },
   "outputs": [
    {
     "data": {
      "text/plain": [
       "[[1]]\n",
       "[1] \"twitanu: @seematoppo: hello ...\"\n",
       "\n",
       "[[2]]\n",
       "[1] \"twitanu: ¤**¤.. *. .* *HAPPY NEW YEAR * * /.*.¸..¤**¤.,.¤**¤ <U+266B>¤ª¨¨¯¯¨¨ª¤ 2010....TO  INDIA\"\n",
       "\n",
       "[[3]]\n",
       "[1] \"twitanu: HAPPY NEW YEAR TO ALL........HAVE A WONDERFUL NEW YEAR 2010....\"\n",
       "\n",
       "[[4]]\n",
       "[1] \"twitanu: Living in the favorable &unfavorable situation is called Part of living.But,smiling in all those situations is called Art of living.Gud Day!\"\n",
       "\n",
       "[[5]]\n",
       "[1] \"twitanu: Merry x-mas season to all !!!\"\n"
      ]
     },
     "metadata": {},
     "output_type": "display_data"
    }
   ],
   "source": [
    "user_tweets <- userTimeline('twitanu')\n",
    "user_tweets[1:5]"
   ]
  },
  {
   "cell_type": "markdown",
   "metadata": {},
   "source": [
    "<html><b>availableTrendLocations function will return a data.frame with a location in each row and the woeid giving that location’s WOEID.</b></html>"
   ]
  },
  {
   "cell_type": "code",
   "execution_count": 23,
   "metadata": {
    "collapsed": false
   },
   "outputs": [
    {
     "data": {
      "text/html": [
       "<table>\n",
       "<thead><tr><th scope=col>name</th><th scope=col>country</th><th scope=col>woeid</th></tr></thead>\n",
       "<tbody>\n",
       "\t<tr><td>Worldwide</td><td>         </td><td>1        </td></tr>\n",
       "\t<tr><td>Winnipeg </td><td>Canada   </td><td>2972     </td></tr>\n",
       "\t<tr><td>Ottawa   </td><td>Canada   </td><td>3369     </td></tr>\n",
       "\t<tr><td>Quebec   </td><td>Canada   </td><td>3444     </td></tr>\n",
       "\t<tr><td>Montreal </td><td>Canada   </td><td>3534     </td></tr>\n",
       "\t<tr><td>Toronto  </td><td>Canada   </td><td>4118     </td></tr>\n",
       "</tbody>\n",
       "</table>\n"
      ],
      "text/latex": [
       "\\begin{tabular}{r|lll}\n",
       " name & country & woeid\\\\\n",
       "\\hline\n",
       "\t Worldwide &           & 1        \\\\\n",
       "\t Winnipeg  & Canada    & 2972     \\\\\n",
       "\t Ottawa    & Canada    & 3369     \\\\\n",
       "\t Quebec    & Canada    & 3444     \\\\\n",
       "\t Montreal  & Canada    & 3534     \\\\\n",
       "\t Toronto   & Canada    & 4118     \\\\\n",
       "\\end{tabular}\n"
      ],
      "text/markdown": [
       "\n",
       "name | country | woeid | \n",
       "|---|---|---|---|---|---|\n",
       "| Worldwide |           | 1         | \n",
       "| Winnipeg  | Canada    | 2972      | \n",
       "| Ottawa    | Canada    | 3369      | \n",
       "| Quebec    | Canada    | 3444      | \n",
       "| Montreal  | Canada    | 3534      | \n",
       "| Toronto   | Canada    | 4118      | \n",
       "\n",
       "\n"
      ],
      "text/plain": [
       "  name      country woeid\n",
       "1 Worldwide         1    \n",
       "2 Winnipeg  Canada  2972 \n",
       "3 Ottawa    Canada  3369 \n",
       "4 Quebec    Canada  3444 \n",
       "5 Montreal  Canada  3534 \n",
       "6 Toronto   Canada  4118 "
      ]
     },
     "metadata": {},
     "output_type": "display_data"
    }
   ],
   "source": [
    "avail_trends = availableTrendLocations()\n",
    "head(avail_trends)"
   ]
  },
  {
   "cell_type": "markdown",
   "metadata": {},
   "source": [
    "<html><b>The closestTrendLocations\n",
    "function is passed a latitude and longitude and will return\n",
    "the same style data.frame..</b></html>"
   ]
  },
  {
   "cell_type": "code",
   "execution_count": 24,
   "metadata": {
    "collapsed": false
   },
   "outputs": [
    {
     "data": {
      "text/html": [
       "<table>\n",
       "<thead><tr><th scope=col>name</th><th scope=col>country</th><th scope=col>woeid</th></tr></thead>\n",
       "<tbody>\n",
       "\t<tr><td>Concepcion</td><td>Chile     </td><td>349860    </td></tr>\n",
       "</tbody>\n",
       "</table>\n"
      ],
      "text/latex": [
       "\\begin{tabular}{r|lll}\n",
       " name & country & woeid\\\\\n",
       "\\hline\n",
       "\t Concepcion & Chile      & 349860    \\\\\n",
       "\\end{tabular}\n"
      ],
      "text/markdown": [
       "\n",
       "name | country | woeid | \n",
       "|---|\n",
       "| Concepcion | Chile      | 349860     | \n",
       "\n",
       "\n"
      ],
      "text/plain": [
       "  name       country woeid \n",
       "1 Concepcion Chile   349860"
      ]
     },
     "metadata": {},
     "output_type": "display_data"
    }
   ],
   "source": [
    "close_trends = closestTrendLocations(-42.8, -71.1)\n",
    "head(close_trends)"
   ]
  },
  {
   "cell_type": "markdown",
   "metadata": {},
   "source": [
    "<html><b> The getTrends function is used to pull current\n",
    "trend information from a given location.</b></html>"
   ]
  },
  {
   "cell_type": "code",
   "execution_count": 25,
   "metadata": {
    "collapsed": false
   },
   "outputs": [
    {
     "data": {
      "text/html": [
       "<table>\n",
       "<thead><tr><th scope=col>name</th><th scope=col>url</th><th scope=col>query</th><th scope=col>woeid</th></tr></thead>\n",
       "<tbody>\n",
       "\t<tr><td>#NationalDrinkWineDay                              </td><td>http://twitter.com/search?q=%23NationalDrinkWineDay</td><td>%23NationalDrinkWineDay                            </td><td>2367105                                            </td></tr>\n",
       "\t<tr><td>#AAASmtg                                           </td><td>http://twitter.com/search?q=%23AAASmtg             </td><td>%23AAASmtg                                         </td><td>2367105                                            </td></tr>\n",
       "\t<tr><td>#ZGWL                                              </td><td>http://twitter.com/search?q=%23ZGWL                </td><td>%23ZGWL                                            </td><td>2367105                                            </td></tr>\n",
       "\t<tr><td>Huskies                                            </td><td>http://twitter.com/search?q=Huskies                </td><td>Huskies                                            </td><td>2367105                                            </td></tr>\n",
       "\t<tr><td>#Boskone                                           </td><td>http://twitter.com/search?q=%23Boskone             </td><td>%23Boskone                                         </td><td>2367105                                            </td></tr>\n",
       "\t<tr><td>Norma McCorvey                                     </td><td>http://twitter.com/search?q=%22Norma+McCorvey%22   </td><td>%22Norma+McCorvey%22                               </td><td>2367105                                            </td></tr>\n",
       "</tbody>\n",
       "</table>\n"
      ],
      "text/latex": [
       "\\begin{tabular}{r|llll}\n",
       " name & url & query & woeid\\\\\n",
       "\\hline\n",
       "\t \\#NationalDrinkWineDay                               & http://twitter.com/search?q=\\%23NationalDrinkWineDay & \\%23NationalDrinkWineDay                             & 2367105                                              \\\\\n",
       "\t \\#AAASmtg                                            & http://twitter.com/search?q=\\%23AAASmtg              & \\%23AAASmtg                                          & 2367105                                              \\\\\n",
       "\t \\#ZGWL                                               & http://twitter.com/search?q=\\%23ZGWL                 & \\%23ZGWL                                             & 2367105                                              \\\\\n",
       "\t Huskies                                             & http://twitter.com/search?q=Huskies                 & Huskies                                             & 2367105                                            \\\\\n",
       "\t \\#Boskone                                            & http://twitter.com/search?q=\\%23Boskone              & \\%23Boskone                                          & 2367105                                              \\\\\n",
       "\t Norma McCorvey                                          & http://twitter.com/search?q=\\%22Norma+McCorvey\\%22    & \\%22Norma+McCorvey\\%22                                & 2367105                                                \\\\\n",
       "\\end{tabular}\n"
      ],
      "text/markdown": [
       "\n",
       "name | url | query | woeid | \n",
       "|---|---|---|---|---|---|\n",
       "| #NationalDrinkWineDay                               | http://twitter.com/search?q=%23NationalDrinkWineDay | %23NationalDrinkWineDay                             | 2367105                                             | \n",
       "| #AAASmtg                                            | http://twitter.com/search?q=%23AAASmtg              | %23AAASmtg                                          | 2367105                                             | \n",
       "| #ZGWL                                               | http://twitter.com/search?q=%23ZGWL                 | %23ZGWL                                             | 2367105                                             | \n",
       "| Huskies                                             | http://twitter.com/search?q=Huskies                 | Huskies                                             | 2367105                                             | \n",
       "| #Boskone                                            | http://twitter.com/search?q=%23Boskone              | %23Boskone                                          | 2367105                                             | \n",
       "| Norma McCorvey                                      | http://twitter.com/search?q=%22Norma+McCorvey%22    | %22Norma+McCorvey%22                                | 2367105                                             | \n",
       "\n",
       "\n"
      ],
      "text/plain": [
       "  name                  url                                                \n",
       "1 #NationalDrinkWineDay http://twitter.com/search?q=%23NationalDrinkWineDay\n",
       "2 #AAASmtg              http://twitter.com/search?q=%23AAASmtg             \n",
       "3 #ZGWL                 http://twitter.com/search?q=%23ZGWL                \n",
       "4 Huskies               http://twitter.com/search?q=Huskies                \n",
       "5 #Boskone              http://twitter.com/search?q=%23Boskone             \n",
       "6 Norma McCorvey        http://twitter.com/search?q=%22Norma+McCorvey%22   \n",
       "  query                   woeid  \n",
       "1 %23NationalDrinkWineDay 2367105\n",
       "2 %23AAASmtg              2367105\n",
       "3 %23ZGWL                 2367105\n",
       "4 Huskies                 2367105\n",
       "5 %23Boskone              2367105\n",
       "6 %22Norma+McCorvey%22    2367105"
      ]
     },
     "metadata": {},
     "output_type": "display_data"
    }
   ],
   "source": [
    "trends = getTrends(2367105)\n",
    "head(trends)"
   ]
  },
  {
   "cell_type": "markdown",
   "metadata": {},
   "source": [
    "<html><b> Pull the most recent results from the public timeline and see the clients that\n",
    "were used to post those statuses. We drew a pie chart to get a sense for\n",
    "the most common clients.</b></html>"
   ]
  },
  {
   "cell_type": "code",
   "execution_count": 30,
   "metadata": {
    "collapsed": false
   },
   "outputs": [
    {
     "data": {
      "image/png": "[encoded data removed]",
      "text/plain": [
       "plot without title"
      ]
     },
     "metadata": {},
     "output_type": "display_data"
    }
   ],
   "source": [
    "tweets_pie <- searchTwitter(\"#H1B Visa\", n=300)\n",
    "sources <- sapply(tweets_pie, function(x) x$getStatusSource())\n",
    "sources <- gsub(\"</a>\", \"\", sources)\n",
    "sources <- strsplit(sources, \">\")\n",
    "sources <- sapply(sources, function(x) ifelse(length(x) > 1, x[2], x[1]))\n",
    "source_table = table(sources)\n",
    "pie(source_table[source_table > 10])"
   ]
  },
  {
   "cell_type": "code",
   "execution_count": null,
   "metadata": {
    "collapsed": true
   },
   "outputs": [],
   "source": []
  }
 ],
 "metadata": {
  "kernelspec": {
   "display_name": "R",
   "language": "R",
   "name": "ir"
  },
  "language_info": {
   "codemirror_mode": "r",
   "file_extension": ".r",
   "mimetype": "text/x-r-source",
   "name": "R",
   "pygments_lexer": "r",
   "version": "3.3.2"
  }
 },
 "nbformat": 4,
 "nbformat_minor": 2
}
