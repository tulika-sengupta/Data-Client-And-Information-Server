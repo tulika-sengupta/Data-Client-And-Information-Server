{
 "cells": [
  {
   "cell_type": "markdown",
   "metadata": {
    "collapsed": true
   },
   "source": [
    "<html><b>Libraries to include all the required packages. \n",
    "twitteR for using the twitter functions such as \"searchTwitter\", \"twListToDF\".\n",
    "ggmap for using geocode() function.\n",
    "maps and ggplot to plot the map.</b></html>"
   ]
  },
  {
   "cell_type": "code",
   "execution_count": null,
   "metadata": {
    "collapsed": true
   },
   "outputs": [],
   "source": [
    "library(\"twitteR\")\n",
    "library(\"ggmap\")\n",
    "library(\"maps\")\n",
    "library(\"maptools\")\n",
    "library(\"ggplot2\")"
   ]
  },
  {
   "cell_type": "markdown",
   "metadata": {},
   "source": [
    "<html><b>Twitter Credentials to programatically work with twitter.</b></html>"
   ]
  },
  {
   "cell_type": "code",
   "execution_count": null,
   "metadata": {
    "collapsed": false
   },
   "outputs": [],
   "source": [
    "consumer_key = \"u0dJDMOt3wZJsS5HSp9mU0Un1\"\n",
    "consumer_secret = \"FUTqk8V9ROhzXds1uXdIYC40S6058Ocu5fTzNh97HWPnuk0X54\"\n",
    "access_token = \"71994973-7usKrMfFnM6BAMp1jaLyWQ6Jo0pFbo6FbigNSVsN9\"\n",
    "access_secret = \"Xp3DdDJa2j1nvQxML7hppvti6j1RiEnrp802UwjBox6oU\"\n",
    "setup_twitter_oauth(consumer_key, consumer_secret, access_token, access_secret)"
   ]
  },
  {
   "cell_type": "markdown",
   "metadata": {},
   "source": [
    "<html><b>Query to be searched.</b></html>"
   ]
  },
  {
   "cell_type": "code",
   "execution_count": null,
   "metadata": {
    "collapsed": true
   },
   "outputs": [],
   "source": [
    "query <- \"Super Bowl\""
   ]
  },
  {
   "cell_type": "markdown",
   "metadata": {},
   "source": [
    "<html><b>Collect Tweets using searchTwitter</b></html>"
   ]
  },
  {
   "cell_type": "code",
   "execution_count": null,
   "metadata": {
    "collapsed": false
   },
   "outputs": [],
   "source": [
    "results <- searchTwitter(query, n = 30000)  # Gather Tweets "
   ]
  },
  {
   "cell_type": "markdown",
   "metadata": {},
   "source": [
    "<html><b>Convert the collected tweets into data frame.</b></html>"
   ]
  },
  {
   "cell_type": "code",
   "execution_count": null,
   "metadata": {
    "collapsed": true
   },
   "outputs": [],
   "source": [
    "tweetFrame <- twListToDF(results)  "
   ]
  },
  {
   "cell_type": "markdown",
   "metadata": {},
   "source": [
    "<html><b>Write the tweets into a file called \"tweets.csv\". </b></html>"
   ]
  },
  {
   "cell_type": "code",
   "execution_count": null,
   "metadata": {
    "collapsed": true
   },
   "outputs": [],
   "source": [
    "write.csv(tweetFrame, file=\"tweets.csv\")"
   ]
  },
  {
   "cell_type": "markdown",
   "metadata": {},
   "source": [
    "<html><b>Read the tweets into a file called \"tweets.csv\". </b></html>"
   ]
  },
  {
   "cell_type": "code",
   "execution_count": null,
   "metadata": {
    "collapsed": true
   },
   "outputs": [],
   "source": [
    "userInfo <- read.csv(file=\"tweets.csv\")"
   ]
  },
  {
   "cell_type": "markdown",
   "metadata": {},
   "source": [
    "<html><b>Lookup for the screen name and convert the information into a data frame.</b></html>"
   ]
  },
  {
   "cell_type": "code",
   "execution_count": null,
   "metadata": {
    "collapsed": false
   },
   "outputs": [],
   "source": [
    "userInfo <- lookupUsers(userInfo$screenName)  # Batch lookup of user info\n",
    "userFrame <- twListToDF(userInfo) "
   ]
  },
  {
   "cell_type": "markdown",
   "metadata": {},
   "source": [
    "<html><b>Convert the collected user information into sets of 2500 to find out geocode.</b></html>"
   ]
  },
  {
   "cell_type": "code",
   "execution_count": null,
   "metadata": {
    "collapsed": false
   },
   "outputs": [],
   "source": [
    "set1 <- userFrame[1:2500,]\n",
    "set2 <- userFrame[2501:5000,]\n",
    "set3 <- userFrame[5001:6000,]\n",
    "set4 <- userFrame[7501:10000,]"
   ]
  },
  {
   "cell_type": "markdown",
   "metadata": {},
   "source": [
    "<html><b>Retaining only those user information which has non-null location.</b></html>"
   ]
  },
  {
   "cell_type": "code",
   "execution_count": null,
   "metadata": {
    "collapsed": false
   },
   "outputs": [],
   "source": [
    "locatedUsers1 <- !is.na(set1$location)  # Keep only users with location info\n",
    "locatedUsers2 <- !is.na(set2$location)\n",
    "locatedUsers3 <- !is.na(set3$location)\n",
    "locatedUsers4 <- !is.na(set4$location)"
   ]
  },
  {
   "cell_type": "markdown",
   "metadata": {},
   "source": [
    "<html><b>Collecting the geocode of the locations.</b></html>"
   ]
  },
  {
   "cell_type": "code",
   "execution_count": null,
   "metadata": {
    "collapsed": false
   },
   "outputs": [],
   "source": [
    "locations1 <- geocode(set1$location[locatedUsers1])  # Use amazing API to guess\n",
    "locationName1 <- set1$location[locatedUsers1]"
   ]
  },
  {
   "cell_type": "code",
   "execution_count": null,
   "metadata": {
    "collapsed": false
   },
   "outputs": [],
   "source": [
    "locations2 <- geocode(set2$location[locatedUsers2])  # Use amazing API to guess\n",
    "locationName2 <- set2$location[locatedUsers2]"
   ]
  },
  {
   "cell_type": "markdown",
   "metadata": {
    "collapsed": true
   },
   "source": [
    "<html><b>Retaining only those locations for set1 which have valid latitude and longitude locations.</b></html>"
   ]
  },
  {
   "cell_type": "code",
   "execution_count": null,
   "metadata": {
    "collapsed": false
   },
   "outputs": [],
   "source": [
    "tweetLocation1 <- data.frame()\n",
    "tmp <- data.frame()\n",
    "for(i in 1:length(locations1$lat)){    \n",
    "    if(!(is.na(locations1$lat[i])) || !(is.na(locations1$lon[i])))\n",
    "   {\n",
    "        data_frame <- data.frame(locationName=locationName1[i],lat=locations1$lat[i],long=locations1$lon[i])\n",
    "        tweetLocation1 <- rbind(tweetLocation1, data_frame)\n",
    "    }\n",
    "}"
   ]
  },
  {
   "cell_type": "markdown",
   "metadata": {},
   "source": [
    "<html><b>Retaining only those locations for set2 which have valid latitude and longitude locations.</b></html>"
   ]
  },
  {
   "cell_type": "code",
   "execution_count": null,
   "metadata": {
    "collapsed": false
   },
   "outputs": [],
   "source": [
    "tweetLocation2 <- data.frame()\n",
    "tmp <- data.frame()\n",
    "for(i in 1:length(locations2$lat)){\n",
    "    \n",
    "    \n",
    "    if(!(is.na(locations2$lat[i])) || !(is.na(locations2$lon[i])))\n",
    "   {       \n",
    "        data_frame <- data.frame(locationName=locationName2[i],lat=locations2$lat[i],long=locations2$lon[i])\n",
    "        tweetLocation2 <- rbind(tweetLocation2, data_frame)\n",
    "    }\n",
    "}\n"
   ]
  },
  {
   "cell_type": "markdown",
   "metadata": {
    "collapsed": true
   },
   "source": [
    "<html><b>Code to merge all the individual data frames of size 2500 here.</b></html>"
   ]
  },
  {
   "cell_type": "code",
   "execution_count": null,
   "metadata": {
    "collapsed": false
   },
   "outputs": [],
   "source": [
    "merge1 =rbind(tweetLocation1,tweetLocation2)"
   ]
  },
  {
   "cell_type": "markdown",
   "metadata": {},
   "source": [
    "<html><b>Write the geocodes of the locations in a file.</b><html>"
   ]
  },
  {
   "cell_type": "code",
   "execution_count": null,
   "metadata": {
    "collapsed": false
   },
   "outputs": [],
   "source": [
    "write.csv(merge1, file=\"DIC_PA1.csv\")"
   ]
  },
  {
   "cell_type": "markdown",
   "metadata": {},
   "source": [
    "<html><b>Read the geocodes of the locations from the file.</b><html>"
   ]
  },
  {
   "cell_type": "code",
   "execution_count": null,
   "metadata": {
    "collapsed": false
   },
   "outputs": [],
   "source": [
    "df <- read.csv(file= \"DIC_PA1.csv\")      # in the followung code replace tweetFrame with df"
   ]
  },
  {
   "cell_type": "markdown",
   "metadata": {},
   "source": [
    "<html><b>Find the frequency of the tweets by aggregating them according to their latitude and longitude.</b><html>"
   ]
  },
  {
   "cell_type": "code",
   "execution_count": null,
   "metadata": {
    "collapsed": false
   },
   "outputs": [],
   "source": [
    "plotMap  <- aggregate(rep(1, length(paste0(df$lat, df$long))),\n",
    "                             by=list(df$lat, df$long), sum)"
   ]
  },
  {
   "cell_type": "markdown",
   "metadata": {},
   "source": [
    "<html><b>Keeping only the locations of USA. </b></html>"
   ]
  },
  {
   "cell_type": "code",
   "execution_count": null,
   "metadata": {
    "collapsed": false
   },
   "outputs": [],
   "source": [
    "finalFrame= data.frame()\n",
    "for(i in 1:length(plotMap$Group.1))\n",
    "    {\n",
    "    if(plotMap$Group.2[i] > -140 && plotMap$Group.2[i] < -60 && plotMap$Group.1[i] >20 && plotMap$Group.1[i] < 60){\n",
    "        data_frame_temp = data.frame(lat=plotMap$Group.1[i], long=plotMap$Group.2[i], x=plotMap$x[i])\n",
    "        finalFrame=rbind(finalFrame, data_frame_temp)\n",
    "    }    \n",
    "}"
   ]
  },
  {
   "cell_type": "markdown",
   "metadata": {},
   "source": [
    "<html><b>Write the geocodes and their frequency in a file.</b></html>"
   ]
  },
  {
   "cell_type": "code",
   "execution_count": null,
   "metadata": {
    "collapsed": false
   },
   "outputs": [],
   "source": [
    "write.csv(finalFrame, file=\"DIC_PA1_Plot3.csv\")"
   ]
  },
  {
   "cell_type": "markdown",
   "metadata": {},
   "source": [
    "<html><b>Reading the above created file. </b></html>"
   ]
  },
  {
   "cell_type": "code",
   "execution_count": null,
   "metadata": {
    "collapsed": false
   },
   "outputs": [],
   "source": [
    "df <- read.csv(file= \"DIC_PA1_Plot3.csv\")\n",
    "df"
   ]
  },
  {
   "cell_type": "markdown",
   "metadata": {
    "collapsed": false
   },
   "source": [
    "<html><b>Plotting the points on the USA map. The size of points is changed using the \"size\" parameter in the geom_point() function. </b></html>"
   ]
  },
  {
   "cell_type": "code",
   "execution_count": null,
   "metadata": {
    "collapsed": false
   },
   "outputs": [],
   "source": [
    "usa_center = as.numeric(geocode(\"United States\"))\n",
    "USAMap = ggmap(get_googlemap(center=usa_center,scale=2, zoom=4), extent= \"normal\") \n",
    "USAMap +  \n",
    "    geom_point(aes(x=long, y=lat), data=df, col=\"red\", alpha=0.4, size=(df$x/5) )"
   ]
  },
  {
   "cell_type": "code",
   "execution_count": null,
   "metadata": {
    "collapsed": true
   },
   "outputs": [],
   "source": []
  }
 ],
 "metadata": {
  "kernelspec": {
   "display_name": "R",
   "language": "R",
   "name": "ir"
  },
  "language_info": {
   "codemirror_mode": "r",
   "file_extension": ".r",
   "mimetype": "text/x-r-source",
   "name": "R",
   "pygments_lexer": "r",
   "version": "3.3.2"
  }
 },
 "nbformat": 4,
 "nbformat_minor": 2
}
